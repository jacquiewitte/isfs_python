{
 "cells": [
  {
   "cell_type": "markdown",
   "id": "e5f40bde",
   "metadata": {},
   "source": [
    "# Output timestamps of radiometer spikes in the 5-min time series for the QC/cal_files"
   ]
  },
  {
   "cell_type": "markdown",
   "id": "133b3e40",
   "metadata": {},
   "source": [
    "## Jacquelyn Witte NCAR/EOL"
   ]
  },
  {
   "cell_type": "markdown",
   "id": "120d3a7c",
   "metadata": {},
   "source": [
    "### May 2022"
   ]
  },
  {
   "cell_type": "code",
   "execution_count": 1,
   "id": "9203de14",
   "metadata": {},
   "outputs": [],
   "source": [
    "import os\n",
    "import csv\n",
    "\n",
    "import numpy as np\n",
    "import pathlib\n",
    "import paramiko\n",
    "import pandas as pd\n",
    "import re\n",
    "import xarray as xr\n",
    "\n",
    "import warnings\n",
    "warnings.filterwarnings('ignore')\n",
    "\n",
    "#pd.set_option('display.max_columns', None)\n",
    "#pd.set_option('display.max_rows', None)"
   ]
  },
  {
   "cell_type": "code",
   "execution_count": 2,
   "id": "7eabb4b6",
   "metadata": {},
   "outputs": [],
   "source": [
    "# create the client\n",
    "ssh = paramiko.SSHClient()\n",
    "ssh.set_missing_host_key_policy(paramiko.AutoAddPolicy())\n",
    "ssh.connect(hostname='barolo.eol.ucar.edu',\n",
    "            username='username goes here',\n",
    "            key_filename='path to the ssh key goes here',\n",
    "            port=22)"
   ]
  },
  {
   "cell_type": "code",
   "execution_count": 3,
   "id": "6d20075d",
   "metadata": {},
   "outputs": [
    {
     "data": {
      "text/plain": [
       "['/net/isf/isff/projects/SWEX/ISFS/netcdf/noqc_instrument/isfs_20220315.nc',\n",
       " '/net/isf/isff/projects/SWEX/ISFS/netcdf/noqc_instrument/isfs_20220316.nc',\n",
       " '/net/isf/isff/projects/SWEX/ISFS/netcdf/noqc_instrument/isfs_20220317.nc',\n",
       " '/net/isf/isff/projects/SWEX/ISFS/netcdf/noqc_instrument/isfs_20220318.nc',\n",
       " '/net/isf/isff/projects/SWEX/ISFS/netcdf/noqc_instrument/isfs_20220319.nc']"
      ]
     },
     "execution_count": 3,
     "metadata": {},
     "output_type": "execute_result"
    }
   ],
   "source": [
    "remotepath = '/net/isf/isff/projects/SWEX/ISFS/netcdf/noqc_instrument/*nc'\n",
    "localtempfile = os.path.join(pathlib.Path.home(),\n",
    "                            'projects', 'swex', 'isfs', 'temp.nc')\n",
    "\n",
    "# open an ftp channel\n",
    "sftp_client = ssh.open_sftp()\n",
    "\n",
    "# gather all the file into stdout\n",
    "stdin, stdout, stderr = ssh.exec_command('ls '+remotepath)\n",
    "\n",
    "# remove white spaces and \\n newline characters. It's annoying.\n",
    "nc_files = [line.strip() for line in stdout.readlines()]\n",
    "\n",
    "# Print the 1st 5 files as a sanity check\n",
    "nc_files[0:5]"
   ]
  },
  {
   "cell_type": "code",
   "execution_count": 4,
   "id": "0aa07648",
   "metadata": {},
   "outputs": [],
   "source": [
    "# Define the sites and radiometer variables\n",
    "# SWEX\n",
    "sites = ['s'+str(i) for i in np.arange(18)+1]\n",
    "desired_var = ['Rpile_in', 'Rpile_out', 'Rsw_in', 'Rsw_out']"
   ]
  },
  {
   "cell_type": "code",
   "execution_count": 5,
   "id": "86b4f611",
   "metadata": {},
   "outputs": [
    {
     "name": "stdout",
     "output_type": "stream",
     "text": [
      "/net/isf/isff/projects/SWEX/ISFS/netcdf/noqc_instrument/isfs_20220315.nc\n",
      "/net/isf/isff/projects/SWEX/ISFS/netcdf/noqc_instrument/isfs_20220316.nc\n",
      "/net/isf/isff/projects/SWEX/ISFS/netcdf/noqc_instrument/isfs_20220317.nc\n",
      "/net/isf/isff/projects/SWEX/ISFS/netcdf/noqc_instrument/isfs_20220318.nc\n",
      "/net/isf/isff/projects/SWEX/ISFS/netcdf/noqc_instrument/isfs_20220319.nc\n",
      "/net/isf/isff/projects/SWEX/ISFS/netcdf/noqc_instrument/isfs_20220320.nc\n",
      "/net/isf/isff/projects/SWEX/ISFS/netcdf/noqc_instrument/isfs_20220321.nc\n",
      "/net/isf/isff/projects/SWEX/ISFS/netcdf/noqc_instrument/isfs_20220322.nc\n",
      "/net/isf/isff/projects/SWEX/ISFS/netcdf/noqc_instrument/isfs_20220323.nc\n",
      "/net/isf/isff/projects/SWEX/ISFS/netcdf/noqc_instrument/isfs_20220324.nc\n",
      "/net/isf/isff/projects/SWEX/ISFS/netcdf/noqc_instrument/isfs_20220325.nc\n",
      "/net/isf/isff/projects/SWEX/ISFS/netcdf/noqc_instrument/isfs_20220326.nc\n",
      "/net/isf/isff/projects/SWEX/ISFS/netcdf/noqc_instrument/isfs_20220327.nc\n",
      "/net/isf/isff/projects/SWEX/ISFS/netcdf/noqc_instrument/isfs_20220328.nc\n",
      "/net/isf/isff/projects/SWEX/ISFS/netcdf/noqc_instrument/isfs_20220329.nc\n",
      "/net/isf/isff/projects/SWEX/ISFS/netcdf/noqc_instrument/isfs_20220330.nc\n",
      "/net/isf/isff/projects/SWEX/ISFS/netcdf/noqc_instrument/isfs_20220331.nc\n",
      "/net/isf/isff/projects/SWEX/ISFS/netcdf/noqc_instrument/isfs_20220401.nc\n",
      "/net/isf/isff/projects/SWEX/ISFS/netcdf/noqc_instrument/isfs_20220402.nc\n",
      "/net/isf/isff/projects/SWEX/ISFS/netcdf/noqc_instrument/isfs_20220403.nc\n",
      "/net/isf/isff/projects/SWEX/ISFS/netcdf/noqc_instrument/isfs_20220404.nc\n",
      "/net/isf/isff/projects/SWEX/ISFS/netcdf/noqc_instrument/isfs_20220405.nc\n",
      "/net/isf/isff/projects/SWEX/ISFS/netcdf/noqc_instrument/isfs_20220406.nc\n",
      "/net/isf/isff/projects/SWEX/ISFS/netcdf/noqc_instrument/isfs_20220407.nc\n",
      "/net/isf/isff/projects/SWEX/ISFS/netcdf/noqc_instrument/isfs_20220408.nc\n",
      "/net/isf/isff/projects/SWEX/ISFS/netcdf/noqc_instrument/isfs_20220409.nc\n",
      "/net/isf/isff/projects/SWEX/ISFS/netcdf/noqc_instrument/isfs_20220410.nc\n",
      "/net/isf/isff/projects/SWEX/ISFS/netcdf/noqc_instrument/isfs_20220411.nc\n",
      "/net/isf/isff/projects/SWEX/ISFS/netcdf/noqc_instrument/isfs_20220412.nc\n",
      "/net/isf/isff/projects/SWEX/ISFS/netcdf/noqc_instrument/isfs_20220413.nc\n",
      "/net/isf/isff/projects/SWEX/ISFS/netcdf/noqc_instrument/isfs_20220414.nc\n",
      "/net/isf/isff/projects/SWEX/ISFS/netcdf/noqc_instrument/isfs_20220415.nc\n",
      "/net/isf/isff/projects/SWEX/ISFS/netcdf/noqc_instrument/isfs_20220416.nc\n",
      "/net/isf/isff/projects/SWEX/ISFS/netcdf/noqc_instrument/isfs_20220417.nc\n",
      "/net/isf/isff/projects/SWEX/ISFS/netcdf/noqc_instrument/isfs_20220418.nc\n",
      "/net/isf/isff/projects/SWEX/ISFS/netcdf/noqc_instrument/isfs_20220419.nc\n",
      "/net/isf/isff/projects/SWEX/ISFS/netcdf/noqc_instrument/isfs_20220420.nc\n",
      "/net/isf/isff/projects/SWEX/ISFS/netcdf/noqc_instrument/isfs_20220421.nc\n",
      "/net/isf/isff/projects/SWEX/ISFS/netcdf/noqc_instrument/isfs_20220422.nc\n",
      "/net/isf/isff/projects/SWEX/ISFS/netcdf/noqc_instrument/isfs_20220423.nc\n",
      "/net/isf/isff/projects/SWEX/ISFS/netcdf/noqc_instrument/isfs_20220424.nc\n",
      "/net/isf/isff/projects/SWEX/ISFS/netcdf/noqc_instrument/isfs_20220425.nc\n",
      "/net/isf/isff/projects/SWEX/ISFS/netcdf/noqc_instrument/isfs_20220426.nc\n",
      "/net/isf/isff/projects/SWEX/ISFS/netcdf/noqc_instrument/isfs_20220427.nc\n",
      "/net/isf/isff/projects/SWEX/ISFS/netcdf/noqc_instrument/isfs_20220428.nc\n",
      "/net/isf/isff/projects/SWEX/ISFS/netcdf/noqc_instrument/isfs_20220429.nc\n",
      "/net/isf/isff/projects/SWEX/ISFS/netcdf/noqc_instrument/isfs_20220430.nc\n",
      "/net/isf/isff/projects/SWEX/ISFS/netcdf/noqc_instrument/isfs_20220501.nc\n",
      "/net/isf/isff/projects/SWEX/ISFS/netcdf/noqc_instrument/isfs_20220502.nc\n",
      "/net/isf/isff/projects/SWEX/ISFS/netcdf/noqc_instrument/isfs_20220503.nc\n"
     ]
    }
   ],
   "source": [
    "# initialize a list\n",
    "spikes_list = []\n",
    "# Set the threshold\n",
    "threshold = 5000.\n",
    "\n",
    "# loop over each file\n",
    "for remotefile in nc_files:\n",
    "    # read file remotely to a dummy local file\n",
    "    sftp_client.get(remotefile, localtempfile)\n",
    "    data_xr = xr.open_dataset(localtempfile, decode_times=False)\n",
    "    print(remotefile)\n",
    "\n",
    "    # Since python gives errors in converting dates to usable formats:\n",
    "    # ValueError: unable to decode time units 'seconds since 2022-03-20 00:00:00 00:00' with 'the default calendar'. \n",
    "    # Try opening your dataset with decode_times=False or installing cftime if it is not installed.\n",
    "    # I have to create the time. \n",
    "    \n",
    "    date_in = pd.to_datetime(remotefile.split('/')[-1].split('_')[1].split('.')[0])\n",
    "    time = pd.date_range(start=date_in, freq='5T', periods=len(data_xr['time'])).strftime('%Y %b %d %H:%M:%S')\n",
    "\n",
    "    # Convert to a dataframe and index to date\n",
    "    data_df = data_xr.drop_dims('sites').to_dataframe()\n",
    "    data_df['date'] = time\n",
    "    data_df = data_df.reset_index().set_index('date')\n",
    "\n",
    "    # Find the radiation variables in the file\n",
    "    keys = data_df.columns\n",
    "    rad_var = []\n",
    "    for v in desired_var:\n",
    "        rad_var.extend([x for x in keys if re.search(v, x)])\n",
    "\n",
    "    # Loop over the variables and collect the spike info\n",
    "    for var in rad_var:\n",
    "        res = data_df[[var]][abs(data_df[var]) > threshold]\n",
    "        if len(res) > 0: spikes_list.append(res)\n",
    "\n",
    "#     spikes_df = pd.DataFrame()\n",
    "#     for var in rad_var:\n",
    "#         res = data_df[var][data_df[var] > threshold]\n",
    "#         if len(res) > 0: \n",
    "#             spikes_df = pd.concat([spikes_df, res.to_frame()]) "
   ]
  },
  {
   "cell_type": "code",
   "execution_count": 7,
   "id": "08747487",
   "metadata": {},
   "outputs": [],
   "source": [
    "# Export the list \n",
    "# Convert a list into rows for a column in csv\n",
    "# output_csv = os.path.join(pathlib.Path.home(),'projects', 'swex', 'isfs',\n",
    "#                          'swex_radiometer_spikes.csv')\n",
    "# with open('swex_radiometer_spikes.csv', 'w', newline='') as csv_1:\n",
    "#     csv_out = csv.writer(csv_1)\n",
    "#     csv_out.writerows([spikes_list[index]] for index in range(0, len(spikes_list)))\n",
    "    \n",
    "# Easier to export using numpy\n",
    "np.savetxt('swex_radiometer_spikes.csv', \n",
    "           spikes_list,\n",
    "           fmt ='% s')"
   ]
  },
  {
   "cell_type": "code",
   "execution_count": 8,
   "id": "0878f29d",
   "metadata": {},
   "outputs": [],
   "source": [
    "# close the connection\n",
    "sftp_client.close()\n",
    "ssh.close()"
   ]
  }
 ],
 "metadata": {
  "kernelspec": {
   "display_name": "Python 3 (ipykernel)",
   "language": "python",
   "name": "python3"
  },
  "language_info": {
   "codemirror_mode": {
    "name": "ipython",
    "version": 3
   },
   "file_extension": ".py",
   "mimetype": "text/x-python",
   "name": "python",
   "nbconvert_exporter": "python",
   "pygments_lexer": "ipython3",
   "version": "3.7.10"
  },
  "varInspector": {
   "cols": {
    "lenName": 16,
    "lenType": 16,
    "lenVar": 40
   },
   "kernels_config": {
    "python": {
     "delete_cmd_postfix": "",
     "delete_cmd_prefix": "del ",
     "library": "var_list.py",
     "varRefreshCmd": "print(var_dic_list())"
    },
    "r": {
     "delete_cmd_postfix": ") ",
     "delete_cmd_prefix": "rm(",
     "library": "var_list.r",
     "varRefreshCmd": "cat(var_dic_list()) "
    }
   },
   "types_to_exclude": [
    "module",
    "function",
    "builtin_function_or_method",
    "instance",
    "_Feature"
   ],
   "window_display": false
  }
 },
 "nbformat": 4,
 "nbformat_minor": 5
}
